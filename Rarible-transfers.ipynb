{
 "cells": [
  {
   "cell_type": "code",
   "execution_count": null,
   "id": "ef0d7e8b",
   "metadata": {
    "ExecuteTime": {
     "end_time": "2021-04-19T07:25:33.255664Z",
     "start_time": "2021-04-19T07:25:31.982962Z"
    }
   },
   "outputs": [],
   "source": [
    "from web3 import Web3\n",
    "from tqdm.notebook import tqdm as tq\n",
    "import requests\n",
    "import time\n",
    "import threading\n",
    "from collections import Counter"
   ]
  },
  {
   "cell_type": "markdown",
   "id": "9742da8a",
   "metadata": {},
   "source": [
    "## Initializing the ethereum client"
   ]
  },
  {
   "cell_type": "code",
   "execution_count": null,
   "id": "b6060b53",
   "metadata": {
    "ExecuteTime": {
     "end_time": "2021-04-19T07:25:33.270290Z",
     "start_time": "2021-04-19T07:25:33.259651Z"
    },
    "hideCode": false,
    "hidePrompt": false
   },
   "outputs": [],
   "source": [
    "endpoint = 'wss://mainnet.infura.io/ws/v3/REPLACE_ME'\n",
    "\n",
    "w3 = Web3(Web3.WebsocketProvider(endpoint))\n",
    "eth = w3.eth"
   ]
  },
  {
   "cell_type": "code",
   "execution_count": null,
   "id": "3677c006",
   "metadata": {
    "ExecuteTime": {
     "end_time": "2021-04-19T07:26:11.611823Z",
     "start_time": "2021-04-19T07:26:11.606037Z"
    }
   },
   "outputs": [],
   "source": [
    "contract = {\n",
    "    'address':w3.toChecksumAddress('0x60f80121c31a0d46b5279700f9df786054aa5ee5'),\n",
    "    'name':'RARIBLE',\n",
    "    'firstBlock':10149090\n",
    "}"
   ]
  },
  {
   "cell_type": "code",
   "execution_count": null,
   "id": "a6c10510",
   "metadata": {
    "ExecuteTime": {
     "end_time": "2021-04-19T07:26:25.614440Z",
     "start_time": "2021-04-19T07:26:25.602248Z"
    }
   },
   "outputs": [],
   "source": [
    "all_entries = []\n",
    "cur_block = contract['firstBlock']\n",
    "STEP = 3000"
   ]
  },
  {
   "cell_type": "markdown",
   "id": "b62062a6",
   "metadata": {},
   "source": [
    "## Fetching all the logs with the specified `Transfer` topic"
   ]
  },
  {
   "cell_type": "code",
   "execution_count": null,
   "id": "a2f2de72",
   "metadata": {
    "ExecuteTime": {
     "end_time": "2021-04-19T07:26:45.006362Z",
     "start_time": "2021-04-19T07:26:40.996993Z"
    },
    "scrolled": true
   },
   "outputs": [],
   "source": [
    "topics = [w3.keccak(text='Transfer(address,address,uint256)').hex()]\n",
    "while cur_block < eth.blockNumber:\n",
    "    filter_params = {'fromBlock':cur_block,'toBlock':cur_block + STEP,'topics':topics,'address':contract['address']}\n",
    "    _filter = eth.filter(filter_params)\n",
    "    entries= _filter.get_all_entries()\n",
    "    all_entries.extend(entries)\n",
    "    cur_block += STEP + 1\n",
    "    print(f'Cur block {cur_block} #entries {len(all_entries)} #step_entries {len(entries)}')\n",
    "    "
   ]
  },
  {
   "cell_type": "code",
   "execution_count": null,
   "id": "b77153b1",
   "metadata": {
    "ExecuteTime": {
     "end_time": "2021-04-19T07:27:20.224504Z",
     "start_time": "2021-04-19T07:27:20.219426Z"
    }
   },
   "outputs": [],
   "source": [
    "sorted_entries = sorted(all_entries,key=lambda x:(x['blockNumber'],x['transactionIndex']))"
   ]
  },
  {
   "cell_type": "markdown",
   "id": "c0cfbf48",
   "metadata": {},
   "source": [
    "## Take a look at one of the entries"
   ]
  },
  {
   "cell_type": "code",
   "execution_count": null,
   "id": "46f32e7b",
   "metadata": {
    "ExecuteTime": {
     "end_time": "2021-04-19T08:56:14.469128Z",
     "start_time": "2021-04-19T08:56:14.456153Z"
    }
   },
   "outputs": [],
   "source": [
    "entry = sorted_entries[0]\n",
    "entry"
   ]
  },
  {
   "cell_type": "markdown",
   "id": "4304add7",
   "metadata": {},
   "source": [
    "## Save the entries for later use"
   ]
  },
  {
   "cell_type": "code",
   "execution_count": null,
   "id": "0047bd52",
   "metadata": {
    "ExecuteTime": {
     "end_time": "2021-04-19T08:56:17.098012Z",
     "start_time": "2021-04-19T08:56:17.050448Z"
    }
   },
   "outputs": [],
   "source": [
    "from hexbytes import HexBytes\n",
    "from web3.datastructures import AttributeDict\n",
    "def serialize(obj):\n",
    "    \"\"\"JSON serializer for objects not serializable by default json code\"\"\"\n",
    "\n",
    "    if isinstance(obj, HexBytes):\n",
    "        return obj.hex()\n",
    "    \n",
    "    if isinstance(obj, AttributeDict):\n",
    "        return dict(obj)\n",
    "\n",
    "    return obj.__dict__\n",
    "\n",
    "with open(contract['name']+'_entries.json','w') as f:\n",
    "    json.dump(sorted_entries,f,default=serialize,indent=2)"
   ]
  },
  {
   "cell_type": "code",
   "execution_count": null,
   "id": "8e1f017e",
   "metadata": {
    "ExecuteTime": {
     "end_time": "2021-04-19T08:56:23.248734Z",
     "start_time": "2021-04-19T08:56:23.240668Z"
    }
   },
   "outputs": [],
   "source": [
    "def parse_address(address):\n",
    "    return address.hex()[-40:]\n",
    "\n",
    "def parse_entry(entry): # returns source address, destination address, and token id\n",
    "    return parse_address(entry['topics'][1]), parse_address(entry['topics'][2]),int(entry['topics'][3].hex()[2:],base=16)\n",
    "    \n",
    "    \n",
    "parsed_entries = [parse_entry(entry) for entry in sorted_entries[-1000:]]"
   ]
  }
 ],
 "metadata": {
  "hide_code_all_hidden": false,
  "kernelspec": {
   "display_name": "Python 3",
   "language": "python",
   "name": "python3"
  },
  "language_info": {
   "codemirror_mode": {
    "name": "ipython",
    "version": 3
   },
   "file_extension": ".py",
   "mimetype": "text/x-python",
   "name": "python",
   "nbconvert_exporter": "python",
   "pygments_lexer": "ipython3",
   "version": "3.8.3"
  },
  "toc": {
   "base_numbering": 1,
   "nav_menu": {},
   "number_sections": true,
   "sideBar": true,
   "skip_h1_title": false,
   "title_cell": "Table of Contents",
   "title_sidebar": "Contents",
   "toc_cell": false,
   "toc_position": {},
   "toc_section_display": true,
   "toc_window_display": false
  }
 },
 "nbformat": 4,
 "nbformat_minor": 5
}
